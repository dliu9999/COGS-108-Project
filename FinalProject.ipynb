{
 "cells": [
  {
   "cell_type": "markdown",
   "metadata": {},
   "source": [
    "# COGS 108 - Final Project "
   ]
  },
  {
   "cell_type": "markdown",
   "metadata": {},
   "source": [
    "# Overview"
   ]
  },
  {
   "cell_type": "markdown",
   "metadata": {},
   "source": [
    "*Fill in your overview here*"
   ]
  },
  {
   "cell_type": "markdown",
   "metadata": {},
   "source": [
    "# Names\n",
    "\n",
    "- Amanda Chung\n",
    "- Christine Fann\n",
    "- Darren Liu\n",
    "- Kai-ling Peng\n",
    "- Priscila Romero"
   ]
  },
  {
   "cell_type": "markdown",
   "metadata": {},
   "source": [
    "# Group Members IDs\n",
    "\n",
    "- A########\n",
    "- A########\n",
    "- A15040930\n",
    "- A14796023\n",
    "- A########"
   ]
  },
  {
   "cell_type": "markdown",
   "metadata": {},
   "source": [
    "# Research Question"
   ]
  },
  {
   "cell_type": "markdown",
   "metadata": {},
   "source": [
    "What is the relationship between a college major and post-graduate success?\n",
    "- What are the most successful majors?\n",
    "    - Is there a relationship between employment rate and median income?\n",
    "- How does graduating with a certain major impact one's future career in pursuing further education or job opportunities? \n",
    "    - Quantify based on full time jobs that require a degree vs. jobs that don’t require a degree\n",
    "    - Part time vs Full time rates\n",
    "- What is the male to female ratio for popular majors? Percentage of women vs median income.\n"
   ]
  },
  {
   "cell_type": "markdown",
   "metadata": {},
   "source": [
    "## Background and Prior Work"
   ]
  },
  {
   "cell_type": "markdown",
   "metadata": {},
   "source": [
    "*Fill in your background and prior work here* \n",
    "\n",
    "References (include links):\n",
    "- 1)\n",
    "- 2)"
   ]
  },
  {
   "cell_type": "markdown",
   "metadata": {},
   "source": [
    "# Hypothesis\n"
   ]
  },
  {
   "cell_type": "markdown",
   "metadata": {},
   "source": [
    "*Fill in your hypotheses here*"
   ]
  },
  {
   "cell_type": "markdown",
   "metadata": {},
   "source": [
    "# Dataset(s)"
   ]
  },
  {
   "cell_type": "markdown",
   "metadata": {},
   "source": [
    "All our datasets are from https://github.com/fivethirtyeight/data/tree/master/college-majors\n",
    "\n",
    "(Copy this information for each dataset)\n",
    "- Dataset Name:\n",
    "- Link to the dataset:\n",
    "- Number of observations:\n",
    "\n",
    "1-2 sentences describing each dataset. \n",
    "\n",
    "If you plan to use multiple datasets, add 1-2 sentences about how you plan to combine these datasets."
   ]
  },
  {
   "cell_type": "markdown",
   "metadata": {},
   "source": [
    "# Setup"
   ]
  },
  {
   "cell_type": "code",
   "execution_count": 1,
   "metadata": {},
   "outputs": [],
   "source": [
    "%matplotlib inline\n",
    "import numpy as np\n",
    "import pandas as pd\n",
    "import seaborn as sns\n",
    "from scipy.stats import linregress"
   ]
  },
  {
   "cell_type": "code",
   "execution_count": 2,
   "metadata": {},
   "outputs": [],
   "source": [
    "# read datasets\n",
    "all_ages = pd.read_csv('data/all-ages.csv')\n",
    "grad_students = pd.read_csv('data/grad-students.csv')\n",
    "recent_grads = pd.read_csv('data/recent-grads.csv')\n",
    "women_stem = pd.read_csv('data/women-stem.csv')"
   ]
  },
  {
   "cell_type": "markdown",
   "metadata": {},
   "source": [
    "# Data Cleaning\n",
    "Clean `all_ages` by extracting wanted columns, converting some quantitative columns to proportions, and adding part/full time data from `recent_grads`"
   ]
  },
  {
   "cell_type": "code",
   "execution_count": 3,
   "metadata": {},
   "outputs": [],
   "source": [
    "## describe all_ages dataset here\n",
    "## explain why we are extracting specific columns"
   ]
  },
  {
   "cell_type": "markdown",
   "metadata": {},
   "source": [
    "### Extract wanted columns"
   ]
  },
  {
   "cell_type": "code",
   "execution_count": 4,
   "metadata": {},
   "outputs": [
    {
     "data": {
      "text/html": [
       "<div>\n",
       "<style scoped>\n",
       "    .dataframe tbody tr th:only-of-type {\n",
       "        vertical-align: middle;\n",
       "    }\n",
       "\n",
       "    .dataframe tbody tr th {\n",
       "        vertical-align: top;\n",
       "    }\n",
       "\n",
       "    .dataframe thead th {\n",
       "        text-align: right;\n",
       "    }\n",
       "</style>\n",
       "<table border=\"1\" class=\"dataframe\">\n",
       "  <thead>\n",
       "    <tr style=\"text-align: right;\">\n",
       "      <th></th>\n",
       "      <th>Major</th>\n",
       "      <th>Major_category</th>\n",
       "      <th>Employed</th>\n",
       "      <th>Median</th>\n",
       "      <th>P25th</th>\n",
       "      <th>P75th</th>\n",
       "      <th>Total</th>\n",
       "    </tr>\n",
       "  </thead>\n",
       "  <tbody>\n",
       "    <tr>\n",
       "      <th>0</th>\n",
       "      <td>GENERAL AGRICULTURE</td>\n",
       "      <td>Agriculture &amp; Natural Resources</td>\n",
       "      <td>90245</td>\n",
       "      <td>50000</td>\n",
       "      <td>34000</td>\n",
       "      <td>80000.0</td>\n",
       "      <td>128148</td>\n",
       "    </tr>\n",
       "    <tr>\n",
       "      <th>1</th>\n",
       "      <td>AGRICULTURE PRODUCTION AND MANAGEMENT</td>\n",
       "      <td>Agriculture &amp; Natural Resources</td>\n",
       "      <td>76865</td>\n",
       "      <td>54000</td>\n",
       "      <td>36000</td>\n",
       "      <td>80000.0</td>\n",
       "      <td>95326</td>\n",
       "    </tr>\n",
       "    <tr>\n",
       "      <th>2</th>\n",
       "      <td>AGRICULTURAL ECONOMICS</td>\n",
       "      <td>Agriculture &amp; Natural Resources</td>\n",
       "      <td>26321</td>\n",
       "      <td>63000</td>\n",
       "      <td>40000</td>\n",
       "      <td>98000.0</td>\n",
       "      <td>33955</td>\n",
       "    </tr>\n",
       "    <tr>\n",
       "      <th>3</th>\n",
       "      <td>ANIMAL SCIENCES</td>\n",
       "      <td>Agriculture &amp; Natural Resources</td>\n",
       "      <td>81177</td>\n",
       "      <td>46000</td>\n",
       "      <td>30000</td>\n",
       "      <td>72000.0</td>\n",
       "      <td>103549</td>\n",
       "    </tr>\n",
       "    <tr>\n",
       "      <th>4</th>\n",
       "      <td>FOOD SCIENCE</td>\n",
       "      <td>Agriculture &amp; Natural Resources</td>\n",
       "      <td>17281</td>\n",
       "      <td>62000</td>\n",
       "      <td>38500</td>\n",
       "      <td>90000.0</td>\n",
       "      <td>24280</td>\n",
       "    </tr>\n",
       "  </tbody>\n",
       "</table>\n",
       "</div>"
      ],
      "text/plain": [
       "                                   Major                   Major_category  \\\n",
       "0                    GENERAL AGRICULTURE  Agriculture & Natural Resources   \n",
       "1  AGRICULTURE PRODUCTION AND MANAGEMENT  Agriculture & Natural Resources   \n",
       "2                 AGRICULTURAL ECONOMICS  Agriculture & Natural Resources   \n",
       "3                        ANIMAL SCIENCES  Agriculture & Natural Resources   \n",
       "4                           FOOD SCIENCE  Agriculture & Natural Resources   \n",
       "\n",
       "   Employed  Median  P25th    P75th   Total  \n",
       "0     90245   50000  34000  80000.0  128148  \n",
       "1     76865   54000  36000  80000.0   95326  \n",
       "2     26321   63000  40000  98000.0   33955  \n",
       "3     81177   46000  30000  72000.0  103549  \n",
       "4     17281   62000  38500  90000.0   24280  "
      ]
     },
     "execution_count": 4,
     "metadata": {},
     "output_type": "execute_result"
    }
   ],
   "source": [
    "# Extract wanted columns all_ages\n",
    "wanted_cols_all = 'Major Major_category Employed Median P25th P75th Total'.split()\n",
    "all_wanted = all_ages.copy()[wanted_cols_all]\n",
    "all_wanted.head()"
   ]
  },
  {
   "cell_type": "markdown",
   "metadata": {},
   "source": [
    "### Feature Engineering\n",
    "Changing the following columns:\n",
    "- Employed -> Employment_rate\n",
    "- Full_time -> Full_time_rate (in `recent_grads`)\n",
    "- Part_time -> Part_time_rate (in `recent_grads`)\n",
    "\n",
    "Creating the following columns\n",
    "- Unemployment_rate"
   ]
  },
  {
   "cell_type": "code",
   "execution_count": 5,
   "metadata": {},
   "outputs": [
    {
     "data": {
      "text/html": [
       "<div>\n",
       "<style scoped>\n",
       "    .dataframe tbody tr th:only-of-type {\n",
       "        vertical-align: middle;\n",
       "    }\n",
       "\n",
       "    .dataframe tbody tr th {\n",
       "        vertical-align: top;\n",
       "    }\n",
       "\n",
       "    .dataframe thead th {\n",
       "        text-align: right;\n",
       "    }\n",
       "</style>\n",
       "<table border=\"1\" class=\"dataframe\">\n",
       "  <thead>\n",
       "    <tr style=\"text-align: right;\">\n",
       "      <th></th>\n",
       "      <th>Major</th>\n",
       "      <th>Major_category</th>\n",
       "      <th>Median</th>\n",
       "      <th>P25th</th>\n",
       "      <th>P75th</th>\n",
       "      <th>Total</th>\n",
       "      <th>Employment_rate</th>\n",
       "      <th>Full_time_rate</th>\n",
       "      <th>Part_time_rate</th>\n",
       "      <th>PercentWomen</th>\n",
       "      <th>Unemployment_rate</th>\n",
       "    </tr>\n",
       "  </thead>\n",
       "  <tbody>\n",
       "    <tr>\n",
       "      <th>0</th>\n",
       "      <td>GENERAL AGRICULTURE</td>\n",
       "      <td>Agriculture &amp; Natural Resources</td>\n",
       "      <td>50000</td>\n",
       "      <td>34000</td>\n",
       "      <td>80000.0</td>\n",
       "      <td>128148</td>\n",
       "      <td>0.704225</td>\n",
       "      <td>0.790509</td>\n",
       "      <td>0.115434</td>\n",
       "      <td>0.120564</td>\n",
       "      <td>0.295775</td>\n",
       "    </tr>\n",
       "    <tr>\n",
       "      <th>1</th>\n",
       "      <td>AGRICULTURE PRODUCTION AND MANAGEMENT</td>\n",
       "      <td>Agriculture &amp; Natural Resources</td>\n",
       "      <td>54000</td>\n",
       "      <td>36000</td>\n",
       "      <td>80000.0</td>\n",
       "      <td>95326</td>\n",
       "      <td>0.806338</td>\n",
       "      <td>0.735450</td>\n",
       "      <td>0.224868</td>\n",
       "      <td>0.101852</td>\n",
       "      <td>0.193662</td>\n",
       "    </tr>\n",
       "    <tr>\n",
       "      <th>2</th>\n",
       "      <td>AGRICULTURAL ECONOMICS</td>\n",
       "      <td>Agriculture &amp; Natural Resources</td>\n",
       "      <td>63000</td>\n",
       "      <td>40000</td>\n",
       "      <td>98000.0</td>\n",
       "      <td>33955</td>\n",
       "      <td>0.775173</td>\n",
       "      <td>0.651869</td>\n",
       "      <td>0.155374</td>\n",
       "      <td>0.153037</td>\n",
       "      <td>0.224827</td>\n",
       "    </tr>\n",
       "    <tr>\n",
       "      <th>3</th>\n",
       "      <td>ANIMAL SCIENCES</td>\n",
       "      <td>Agriculture &amp; Natural Resources</td>\n",
       "      <td>46000</td>\n",
       "      <td>30000</td>\n",
       "      <td>72000.0</td>\n",
       "      <td>103549</td>\n",
       "      <td>0.783948</td>\n",
       "      <td>0.849762</td>\n",
       "      <td>0.119237</td>\n",
       "      <td>0.107313</td>\n",
       "      <td>0.216052</td>\n",
       "    </tr>\n",
       "    <tr>\n",
       "      <th>4</th>\n",
       "      <td>FOOD SCIENCE</td>\n",
       "      <td>Agriculture &amp; Natural Resources</td>\n",
       "      <td>62000</td>\n",
       "      <td>38500</td>\n",
       "      <td>90000.0</td>\n",
       "      <td>24280</td>\n",
       "      <td>0.711738</td>\n",
       "      <td>0.718227</td>\n",
       "      <td>0.160570</td>\n",
       "      <td>0.341631</td>\n",
       "      <td>0.288262</td>\n",
       "    </tr>\n",
       "  </tbody>\n",
       "</table>\n",
       "</div>"
      ],
      "text/plain": [
       "                                   Major                   Major_category  \\\n",
       "0                    GENERAL AGRICULTURE  Agriculture & Natural Resources   \n",
       "1  AGRICULTURE PRODUCTION AND MANAGEMENT  Agriculture & Natural Resources   \n",
       "2                 AGRICULTURAL ECONOMICS  Agriculture & Natural Resources   \n",
       "3                        ANIMAL SCIENCES  Agriculture & Natural Resources   \n",
       "4                           FOOD SCIENCE  Agriculture & Natural Resources   \n",
       "\n",
       "   Median  P25th    P75th   Total  Employment_rate  Full_time_rate  \\\n",
       "0   50000  34000  80000.0  128148         0.704225        0.790509   \n",
       "1   54000  36000  80000.0   95326         0.806338        0.735450   \n",
       "2   63000  40000  98000.0   33955         0.775173        0.651869   \n",
       "3   46000  30000  72000.0  103549         0.783948        0.849762   \n",
       "4   62000  38500  90000.0   24280         0.711738        0.718227   \n",
       "\n",
       "   Part_time_rate  PercentWomen  Unemployment_rate  \n",
       "0        0.115434      0.120564           0.295775  \n",
       "1        0.224868      0.101852           0.193662  \n",
       "2        0.155374      0.153037           0.224827  \n",
       "3        0.119237      0.107313           0.216052  \n",
       "4        0.160570      0.341631           0.288262  "
      ]
     },
     "execution_count": 5,
     "metadata": {},
     "output_type": "execute_result"
    }
   ],
   "source": [
    "# Employment rate\n",
    "all_wanted['Employment_rate'] = all_wanted['Employed'] / all_wanted['Total']\n",
    "\n",
    "# Full time rate (add from recent_grads)\n",
    "all_wanted['Full_time_rate'] = recent_grads['Full_time'] / recent_grads['Total']\n",
    "\n",
    "# Part time rate (add from recent_grads)\n",
    "all_wanted['Part_time_rate'] = recent_grads['Part_time'] / recent_grads['Total']\n",
    "\n",
    "#Percent Women (add from recent_grads)\n",
    "all_wanted['PercentWomen'] = recent_grads['ShareWomen']\n",
    "\n",
    "# Unemployment_rate\n",
    "all_wanted['Unemployment_rate'] = 1 - all_wanted['Employment_rate']\n",
    "\n",
    "all_wanted = all_wanted.drop('Employed', axis=1).dropna().reset_index(drop=True)\n",
    "all_wanted.head()"
   ]
  },
  {
   "cell_type": "markdown",
   "metadata": {},
   "source": [
    "### Women_stem dataset\n",
    "Women_stem dataset doesn't require much cleaning."
   ]
  },
  {
   "cell_type": "code",
   "execution_count": 6,
   "metadata": {},
   "outputs": [
    {
     "data": {
      "text/html": [
       "<div>\n",
       "<style scoped>\n",
       "    .dataframe tbody tr th:only-of-type {\n",
       "        vertical-align: middle;\n",
       "    }\n",
       "\n",
       "    .dataframe tbody tr th {\n",
       "        vertical-align: top;\n",
       "    }\n",
       "\n",
       "    .dataframe thead th {\n",
       "        text-align: right;\n",
       "    }\n",
       "</style>\n",
       "<table border=\"1\" class=\"dataframe\">\n",
       "  <thead>\n",
       "    <tr style=\"text-align: right;\">\n",
       "      <th></th>\n",
       "      <th>Rank</th>\n",
       "      <th>Major_code</th>\n",
       "      <th>Major</th>\n",
       "      <th>Major_category</th>\n",
       "      <th>Total</th>\n",
       "      <th>Men</th>\n",
       "      <th>Women</th>\n",
       "      <th>ShareWomen</th>\n",
       "      <th>Median</th>\n",
       "    </tr>\n",
       "  </thead>\n",
       "  <tbody>\n",
       "    <tr>\n",
       "      <th>0</th>\n",
       "      <td>1</td>\n",
       "      <td>2419</td>\n",
       "      <td>PETROLEUM ENGINEERING</td>\n",
       "      <td>Engineering</td>\n",
       "      <td>2339</td>\n",
       "      <td>2057</td>\n",
       "      <td>282</td>\n",
       "      <td>0.120564</td>\n",
       "      <td>110000</td>\n",
       "    </tr>\n",
       "    <tr>\n",
       "      <th>1</th>\n",
       "      <td>2</td>\n",
       "      <td>2416</td>\n",
       "      <td>MINING AND MINERAL ENGINEERING</td>\n",
       "      <td>Engineering</td>\n",
       "      <td>756</td>\n",
       "      <td>679</td>\n",
       "      <td>77</td>\n",
       "      <td>0.101852</td>\n",
       "      <td>75000</td>\n",
       "    </tr>\n",
       "    <tr>\n",
       "      <th>2</th>\n",
       "      <td>3</td>\n",
       "      <td>2415</td>\n",
       "      <td>METALLURGICAL ENGINEERING</td>\n",
       "      <td>Engineering</td>\n",
       "      <td>856</td>\n",
       "      <td>725</td>\n",
       "      <td>131</td>\n",
       "      <td>0.153037</td>\n",
       "      <td>73000</td>\n",
       "    </tr>\n",
       "    <tr>\n",
       "      <th>3</th>\n",
       "      <td>4</td>\n",
       "      <td>2417</td>\n",
       "      <td>NAVAL ARCHITECTURE AND MARINE ENGINEERING</td>\n",
       "      <td>Engineering</td>\n",
       "      <td>1258</td>\n",
       "      <td>1123</td>\n",
       "      <td>135</td>\n",
       "      <td>0.107313</td>\n",
       "      <td>70000</td>\n",
       "    </tr>\n",
       "    <tr>\n",
       "      <th>4</th>\n",
       "      <td>5</td>\n",
       "      <td>2418</td>\n",
       "      <td>NUCLEAR ENGINEERING</td>\n",
       "      <td>Engineering</td>\n",
       "      <td>2573</td>\n",
       "      <td>2200</td>\n",
       "      <td>373</td>\n",
       "      <td>0.144967</td>\n",
       "      <td>65000</td>\n",
       "    </tr>\n",
       "  </tbody>\n",
       "</table>\n",
       "</div>"
      ],
      "text/plain": [
       "   Rank  Major_code                                      Major Major_category  \\\n",
       "0     1        2419                      PETROLEUM ENGINEERING    Engineering   \n",
       "1     2        2416             MINING AND MINERAL ENGINEERING    Engineering   \n",
       "2     3        2415                  METALLURGICAL ENGINEERING    Engineering   \n",
       "3     4        2417  NAVAL ARCHITECTURE AND MARINE ENGINEERING    Engineering   \n",
       "4     5        2418                        NUCLEAR ENGINEERING    Engineering   \n",
       "\n",
       "   Total   Men  Women  ShareWomen  Median  \n",
       "0   2339  2057    282    0.120564  110000  \n",
       "1    756   679     77    0.101852   75000  \n",
       "2    856   725    131    0.153037   73000  \n",
       "3   1258  1123    135    0.107313   70000  \n",
       "4   2573  2200    373    0.144967   65000  "
      ]
     },
     "execution_count": 6,
     "metadata": {},
     "output_type": "execute_result"
    }
   ],
   "source": [
    "women_stem.head()"
   ]
  },
  {
   "cell_type": "markdown",
   "metadata": {},
   "source": [
    "# Data Analysis & Results"
   ]
  },
  {
   "cell_type": "markdown",
   "metadata": {},
   "source": [
    "## Visualizing \"successful\" majors by looking at the following categories per major category: Employment Rate, Median, __________"
   ]
  },
  {
   "cell_type": "code",
   "execution_count": 7,
   "metadata": {},
   "outputs": [
    {
     "data": {
      "text/plain": [
       "<matplotlib.axes._subplots.AxesSubplot at 0x120691278>"
      ]
     },
     "execution_count": 7,
     "metadata": {},
     "output_type": "execute_result"
    },
    {
     "data": {
      "image/png": "[encoded data removed]",
      "text/plain": [
       "<Figure size 432x288 with 1 Axes>"
      ]
     },
     "metadata": {
      "needs_background": "light"
     },
     "output_type": "display_data"
    }
   ],
   "source": [
    "all_wanted.groupby('Major_category')['Employment_rate'].mean().sort_values().plot(kind='bar')"
   ]
  },
  {
   "cell_type": "code",
   "execution_count": 8,
   "metadata": {},
   "outputs": [
    {
     "data": {
      "text/plain": [
       "<matplotlib.axes._subplots.AxesSubplot at 0x122819e10>"
      ]
     },
     "execution_count": 8,
     "metadata": {},
     "output_type": "execute_result"
    },
    {
     "data": {
      "image/png": "[encoded data removed]",
      "text/plain": [
       "<Figure size 432x288 with 1 Axes>"
      ]
     },
     "metadata": {
      "needs_background": "light"
     },
     "output_type": "display_data"
    }
   ],
   "source": [
    "all_wanted.groupby('Major_category')['Median'].mean().sort_values().plot(kind='bar')"
   ]
  },
  {
   "cell_type": "markdown",
   "metadata": {},
   "source": [
    "### Discussion\n",
    "INSERT DISCUSSION HERE"
   ]
  },
  {
   "cell_type": "markdown",
   "metadata": {},
   "source": [
    "## Relationship between employment rate and median income\n",
    "Visualize a regression line between these two indicators of \"successful\" majors"
   ]
  },
  {
   "cell_type": "code",
   "execution_count": 9,
   "metadata": {},
   "outputs": [
    {
     "name": "stdout",
     "output_type": "stream",
     "text": [
      "R-Value = 0.11802219581243543\n"
     ]
    },
    {
     "data": {
      "image/png": "[encoded data removed]",
      "text/plain": [
       "<Figure size 360x360 with 1 Axes>"
      ]
     },
     "metadata": {
      "needs_background": "light"
     },
     "output_type": "display_data"
    }
   ],
   "source": [
    "sns.lmplot(data=all_wanted, x='Median', y='Employment_rate')\n",
    "rval = linregress(all_wanted['Median'], all_wanted['Employment_rate']).rvalue\n",
    "print('R-Value = ' + str(rval))"
   ]
  },
  {
   "cell_type": "markdown",
   "metadata": {},
   "source": [
    "Regression plot isn't too helpful; the scatterplot is too scattered. Second attempt: bin the data "
   ]
  },
  {
   "cell_type": "code",
   "execution_count": 10,
   "metadata": {},
   "outputs": [],
   "source": [
    "emp_med = all_wanted.copy()[['Employment_rate', 'Median']]"
   ]
  },
  {
   "cell_type": "code",
   "execution_count": 11,
   "metadata": {},
   "outputs": [
    {
     "data": {
      "text/plain": [
       "Text(0.5, 1.0, 'Employment Rate Histogram')"
      ]
     },
     "execution_count": 11,
     "metadata": {},
     "output_type": "execute_result"
    },
    {
     "data": {
      "image/png": "[encoded data removed]",
      "text/plain": [
       "<Figure size 432x288 with 1 Axes>"
      ]
     },
     "metadata": {
      "needs_background": "light"
     },
     "output_type": "display_data"
    }
   ],
   "source": [
    "emp_med.Employment_rate.plot.hist(bins=12).set_title('Employment Rate Histogram')"
   ]
  },
  {
   "cell_type": "code",
   "execution_count": 12,
   "metadata": {},
   "outputs": [
    {
     "data": {
      "text/plain": [
       "Text(0.5, 1.0, 'Median Income Histogram')"
      ]
     },
     "execution_count": 12,
     "metadata": {},
     "output_type": "execute_result"
    },
    {
     "data": {
      "image/png": "[encoded data removed]",
      "text/plain": [
       "<Figure size 432x288 with 1 Axes>"
      ]
     },
     "metadata": {
      "needs_background": "light"
     },
     "output_type": "display_data"
    }
   ],
   "source": [
    "emp_med.Median.plot.hist(bins=12).set_title('Median Income Histogram')"
   ]
  },
  {
   "cell_type": "code",
   "execution_count": 13,
   "metadata": {},
   "outputs": [
    {
     "data": {
      "text/html": [
       "<div>\n",
       "<style scoped>\n",
       "    .dataframe tbody tr th:only-of-type {\n",
       "        vertical-align: middle;\n",
       "    }\n",
       "\n",
       "    .dataframe tbody tr th {\n",
       "        vertical-align: top;\n",
       "    }\n",
       "\n",
       "    .dataframe thead th {\n",
       "        text-align: right;\n",
       "    }\n",
       "</style>\n",
       "<table border=\"1\" class=\"dataframe\">\n",
       "  <thead>\n",
       "    <tr style=\"text-align: right;\">\n",
       "      <th></th>\n",
       "      <th>Employment_rate</th>\n",
       "      <th>Median</th>\n",
       "      <th>emp_binned</th>\n",
       "      <th>med_binned</th>\n",
       "    </tr>\n",
       "  </thead>\n",
       "  <tbody>\n",
       "    <tr>\n",
       "      <th>0</th>\n",
       "      <td>0.704225</td>\n",
       "      <td>50000</td>\n",
       "      <td>3</td>\n",
       "      <td>5</td>\n",
       "    </tr>\n",
       "    <tr>\n",
       "      <th>1</th>\n",
       "      <td>0.806338</td>\n",
       "      <td>54000</td>\n",
       "      <td>6</td>\n",
       "      <td>7</td>\n",
       "    </tr>\n",
       "    <tr>\n",
       "      <th>2</th>\n",
       "      <td>0.775173</td>\n",
       "      <td>63000</td>\n",
       "      <td>5</td>\n",
       "      <td>9</td>\n",
       "    </tr>\n",
       "    <tr>\n",
       "      <th>3</th>\n",
       "      <td>0.783948</td>\n",
       "      <td>46000</td>\n",
       "      <td>5</td>\n",
       "      <td>3</td>\n",
       "    </tr>\n",
       "    <tr>\n",
       "      <th>4</th>\n",
       "      <td>0.711738</td>\n",
       "      <td>62000</td>\n",
       "      <td>3</td>\n",
       "      <td>9</td>\n",
       "    </tr>\n",
       "  </tbody>\n",
       "</table>\n",
       "</div>"
      ],
      "text/plain": [
       "   Employment_rate  Median  emp_binned med_binned\n",
       "0         0.704225   50000           3          5\n",
       "1         0.806338   54000           6          7\n",
       "2         0.775173   63000           5          9\n",
       "3         0.783948   46000           5          3\n",
       "4         0.711738   62000           3          9"
      ]
     },
     "execution_count": 13,
     "metadata": {},
     "output_type": "execute_result"
    }
   ],
   "source": [
    "# categorizing employment rate and median as new columns\n",
    "def categorize(val):\n",
    "    '''\n",
    "    Categorizes the bins as 1, 2, 3, 4, 5, 6 from low to high:\n",
    "    '''\n",
    "    if 1 <= val <= 2:\n",
    "        return 1\n",
    "    if 3 <= val <= 4:\n",
    "        return 2\n",
    "    if 5 <= val <= 6:\n",
    "        return 3\n",
    "    if 7 <= val <= 8:\n",
    "        return 4\n",
    "    if 9 <= val <= 10:\n",
    "        return 5\n",
    "    return 6\n",
    "\n",
    "emp_med['emp_binned'] = pd.qcut(emp_med['Employment_rate'], 12, labels = np.arange(1, 13)).apply(categorize)\n",
    "emp_med['med_binned'] = pd.qcut(emp_med['Median'], 12, labels = np.arange(1, 13))\n",
    "emp_med.head()"
   ]
  },
  {
   "cell_type": "code",
   "execution_count": 14,
   "metadata": {},
   "outputs": [
    {
     "data": {
      "text/plain": [
       "<matplotlib.axes._subplots.AxesSubplot at 0x122cd8710>"
      ]
     },
     "execution_count": 14,
     "metadata": {},
     "output_type": "execute_result"
    },
    {
     "data": {
      "image/png": "[encoded data removed]",
      "text/plain": [
       "<Figure size 432x288 with 1 Axes>"
      ]
     },
     "metadata": {
      "needs_background": "light"
     },
     "output_type": "display_data"
    }
   ],
   "source": [
    "inc_vs_emp = emp_med.groupby('emp_binned')['Median'].mean()\n",
    "inc_vs_emp.sort_values().plot.bar()"
   ]
  },
  {
   "cell_type": "markdown",
   "metadata": {},
   "source": [
    "### Discussion\n",
    "Even once binned, the data seems to not have a trend between employment rate and median income. The only interesting note is that the lowest employment rate bin has the lowest median income, and the highest employment rate bin has the highest median income. Perhaps with a larger sample size, there will be more interesting findings."
   ]
  },
  {
   "cell_type": "markdown",
   "metadata": {},
   "source": [
    "## What if we want to see what the best major is given certain requirements?\n",
    "Naive optimization: Exploring best combo based on z-scores. Standardize each quantitative column to normalize them, sum together wanted columns."
   ]
  },
  {
   "cell_type": "code",
   "execution_count": 15,
   "metadata": {},
   "outputs": [],
   "source": [
    "def optimize(df, cols):\n",
    "    '''\n",
    "    Optimize major to choose based on values selected. Returns the dataframe\n",
    "    rankings and the top 5 majors.\n",
    "    '''\n",
    "    def standardize(col):\n",
    "        '''\n",
    "        Convert each value in the column to it's z-score\n",
    "        '''\n",
    "        return (col - col.mean()) / col.std()\n",
    "    \n",
    "    # Get wanted input columns\n",
    "    wanted = df[cols]\n",
    "    \n",
    "    # Apply standardization, create new df with major and category\n",
    "    wanted_z = wanted.apply(standardize)\n",
    "    wanted_z = pd.concat([wanted_z, df.Major], axis=1)\n",
    "    wanted_z = pd.concat([wanted_z, df.Major_category], axis=1)\n",
    "    \n",
    "    # Sum the standardized values\n",
    "    wanted_z['Sums'] = wanted_z[cols].sum(axis=1)\n",
    "    \n",
    "    # Create output: df_rankings and top_5\n",
    "    df_rankings = wanted_z.sort_values(by='Sums', ascending=False).reset_index(drop=True)\n",
    "    top_5 = wanted_z.sort_values(by='Sums', ascending=False).Major[:5].reset_index(drop=True)\n",
    "    \n",
    "    return df_rankings, top_5"
   ]
  },
  {
   "cell_type": "code",
   "execution_count": 16,
   "metadata": {},
   "outputs": [
    {
     "name": "stdout",
     "output_type": "stream",
     "text": [
      "Major rankings by columns Median, Employment_rate, Full_time_rate: \n"
     ]
    },
    {
     "data": {
      "text/html": [
       "<div>\n",
       "<style scoped>\n",
       "    .dataframe tbody tr th:only-of-type {\n",
       "        vertical-align: middle;\n",
       "    }\n",
       "\n",
       "    .dataframe tbody tr th {\n",
       "        vertical-align: top;\n",
       "    }\n",
       "\n",
       "    .dataframe thead th {\n",
       "        text-align: right;\n",
       "    }\n",
       "</style>\n",
       "<table border=\"1\" class=\"dataframe\">\n",
       "  <thead>\n",
       "    <tr style=\"text-align: right;\">\n",
       "      <th></th>\n",
       "      <th>Median</th>\n",
       "      <th>Employment_rate</th>\n",
       "      <th>Full_time_rate</th>\n",
       "      <th>Major</th>\n",
       "      <th>Major_category</th>\n",
       "      <th>Sums</th>\n",
       "    </tr>\n",
       "  </thead>\n",
       "  <tbody>\n",
       "    <tr>\n",
       "      <th>0</th>\n",
       "      <td>4.635146</td>\n",
       "      <td>-0.133490</td>\n",
       "      <td>0.115962</td>\n",
       "      <td>PETROLEUM ENGINEERING</td>\n",
       "      <td>Engineering</td>\n",
       "      <td>4.617619</td>\n",
       "    </tr>\n",
       "    <tr>\n",
       "      <th>1</th>\n",
       "      <td>3.344754</td>\n",
       "      <td>-0.455586</td>\n",
       "      <td>1.430277</td>\n",
       "      <td>PHARMACY PHARMACEUTICAL SCIENCES AND ADMINISTR...</td>\n",
       "      <td>Health</td>\n",
       "      <td>4.319445</td>\n",
       "    </tr>\n",
       "    <tr>\n",
       "      <th>2</th>\n",
       "      <td>1.239377</td>\n",
       "      <td>0.113157</td>\n",
       "      <td>2.865514</td>\n",
       "      <td>INDUSTRIAL AND MANUFACTURING ENGINEERING</td>\n",
       "      <td>Engineering</td>\n",
       "      <td>4.218048</td>\n",
       "    </tr>\n",
       "    <tr>\n",
       "      <th>3</th>\n",
       "      <td>0.424392</td>\n",
       "      <td>1.371226</td>\n",
       "      <td>2.009925</td>\n",
       "      <td>MISCELLANEOUS ENGINEERING TECHNOLOGIES</td>\n",
       "      <td>Engineering</td>\n",
       "      <td>3.805543</td>\n",
       "    </tr>\n",
       "    <tr>\n",
       "      <th>4</th>\n",
       "      <td>0.560223</td>\n",
       "      <td>1.805726</td>\n",
       "      <td>1.367413</td>\n",
       "      <td>COMPUTER AND INFORMATION SYSTEMS</td>\n",
       "      <td>Computers &amp; Mathematics</td>\n",
       "      <td>3.733362</td>\n",
       "    </tr>\n",
       "    <tr>\n",
       "      <th>5</th>\n",
       "      <td>1.443123</td>\n",
       "      <td>1.514739</td>\n",
       "      <td>0.455729</td>\n",
       "      <td>COMPUTER SCIENCE</td>\n",
       "      <td>Computers &amp; Mathematics</td>\n",
       "      <td>3.413591</td>\n",
       "    </tr>\n",
       "    <tr>\n",
       "      <th>6</th>\n",
       "      <td>1.578954</td>\n",
       "      <td>1.477116</td>\n",
       "      <td>0.344146</td>\n",
       "      <td>COMPUTER ENGINEERING</td>\n",
       "      <td>Engineering</td>\n",
       "      <td>3.400216</td>\n",
       "    </tr>\n",
       "    <tr>\n",
       "      <th>7</th>\n",
       "      <td>2.393939</td>\n",
       "      <td>1.246230</td>\n",
       "      <td>-0.553029</td>\n",
       "      <td>MATHEMATICS AND COMPUTER SCIENCE</td>\n",
       "      <td>Computers &amp; Mathematics</td>\n",
       "      <td>3.087140</td>\n",
       "    </tr>\n",
       "    <tr>\n",
       "      <th>8</th>\n",
       "      <td>0.220646</td>\n",
       "      <td>1.333417</td>\n",
       "      <td>1.261510</td>\n",
       "      <td>MECHANICAL ENGINEERING RELATED TECHNOLOGIES</td>\n",
       "      <td>Engineering</td>\n",
       "      <td>2.815573</td>\n",
       "    </tr>\n",
       "    <tr>\n",
       "      <th>9</th>\n",
       "      <td>1.035631</td>\n",
       "      <td>1.061142</td>\n",
       "      <td>0.613151</td>\n",
       "      <td>ACTUARIAL SCIENCE</td>\n",
       "      <td>Business</td>\n",
       "      <td>2.709924</td>\n",
       "    </tr>\n",
       "  </tbody>\n",
       "</table>\n",
       "</div>"
      ],
      "text/plain": [
       "     Median  Employment_rate  Full_time_rate  \\\n",
       "0  4.635146        -0.133490        0.115962   \n",
       "1  3.344754        -0.455586        1.430277   \n",
       "2  1.239377         0.113157        2.865514   \n",
       "3  0.424392         1.371226        2.009925   \n",
       "4  0.560223         1.805726        1.367413   \n",
       "5  1.443123         1.514739        0.455729   \n",
       "6  1.578954         1.477116        0.344146   \n",
       "7  2.393939         1.246230       -0.553029   \n",
       "8  0.220646         1.333417        1.261510   \n",
       "9  1.035631         1.061142        0.613151   \n",
       "\n",
       "                                               Major           Major_category  \\\n",
       "0                              PETROLEUM ENGINEERING              Engineering   \n",
       "1  PHARMACY PHARMACEUTICAL SCIENCES AND ADMINISTR...                   Health   \n",
       "2           INDUSTRIAL AND MANUFACTURING ENGINEERING              Engineering   \n",
       "3             MISCELLANEOUS ENGINEERING TECHNOLOGIES              Engineering   \n",
       "4                   COMPUTER AND INFORMATION SYSTEMS  Computers & Mathematics   \n",
       "5                                   COMPUTER SCIENCE  Computers & Mathematics   \n",
       "6                               COMPUTER ENGINEERING              Engineering   \n",
       "7                   MATHEMATICS AND COMPUTER SCIENCE  Computers & Mathematics   \n",
       "8        MECHANICAL ENGINEERING RELATED TECHNOLOGIES              Engineering   \n",
       "9                                  ACTUARIAL SCIENCE                 Business   \n",
       "\n",
       "       Sums  \n",
       "0  4.617619  \n",
       "1  4.319445  \n",
       "2  4.218048  \n",
       "3  3.805543  \n",
       "4  3.733362  \n",
       "5  3.413591  \n",
       "6  3.400216  \n",
       "7  3.087140  \n",
       "8  2.815573  \n",
       "9  2.709924  "
      ]
     },
     "metadata": {},
     "output_type": "display_data"
    },
    {
     "name": "stdout",
     "output_type": "stream",
     "text": [
      "\n",
      "Top 5 majors by columns Median, Employment_rate, Full_time_rate: \n"
     ]
    },
    {
     "data": {
      "text/plain": [
       "0                                PETROLEUM ENGINEERING\n",
       "1    PHARMACY PHARMACEUTICAL SCIENCES AND ADMINISTR...\n",
       "2             INDUSTRIAL AND MANUFACTURING ENGINEERING\n",
       "3               MISCELLANEOUS ENGINEERING TECHNOLOGIES\n",
       "4                     COMPUTER AND INFORMATION SYSTEMS\n",
       "Name: Major, dtype: object"
      ]
     },
     "metadata": {},
     "output_type": "display_data"
    }
   ],
   "source": [
    "# Example: best major when considering median income, employment rate, and full time rate\n",
    "cols = ['Median', 'Employment_rate', 'Full_time_rate']\n",
    "df_rankings, top_5 = optimize(all_wanted, cols)\n",
    "\n",
    "print('Major rankings by columns ' + ', '.join(cols) + ': ')\n",
    "display(df_rankings.head(10))\n",
    "print('\\nTop 5 majors by columns ' + ', '.join(cols) + ': ')\n",
    "display(top_5)"
   ]
  },
  {
   "cell_type": "markdown",
   "metadata": {},
   "source": [
    "What if we wanted to add weights to columns we care more about? Let's introduce a simple ranking system for the columns."
   ]
  },
  {
   "cell_type": "code",
   "execution_count": 17,
   "metadata": {},
   "outputs": [],
   "source": [
    "def optimize_weights(df, cols, rankings):\n",
    "    '''\n",
    "    Optimize major to choose based on values selected. Returns the dataframe\n",
    "    rankings and the top 5 majors.\n",
    "    :param df: input df with major data\n",
    "    :param cols: columns we care about\n",
    "    :param rankings: list of rankings for the input columns\n",
    "    '''\n",
    "    assert (len(cols) == len(rankings)), 'Number of columns and rankings should be the same' \n",
    "    assert (max(rankings) == len(cols)), 'Max rank should be the length of the columns'\n",
    "    assert (min(rankings) == 1),         'Min rank must be 1' \n",
    "    \n",
    "    def standardize(col):\n",
    "        '''\n",
    "        Convert each value in the column to it's z-score\n",
    "        '''\n",
    "        return (col - col.mean()) / col.std()\n",
    "    \n",
    "    def weight(ser):\n",
    "        '''\n",
    "        Assign a general weight system to the rankings\n",
    "        Example: 4 columns ['A', 'B', 'C'] with rankings [1, 2, 3]\n",
    "        Weights assigned would be {'A': 1.3, 'B': 1.15, 'C': 1}\n",
    "        '''\n",
    "        weights = [(1 + (x * 0.15)) for x in range(len(ser))]\n",
    "        weights_dct = dict(zip(ser.index, weights))\n",
    "        return weights_dct\n",
    "    \n",
    "    # convert rankings/columns into a series\n",
    "    rankings_ser = pd.Series(rankings, index=cols).sort_values(ascending=False)\n",
    "    weights = weight(rankings_ser)\n",
    "    \n",
    "    # Get wanted input columns\n",
    "    wanted = df[cols]\n",
    "    \n",
    "    # Apply standardization, multiply weights, create new df with major and category\n",
    "    wanted_z = wanted.apply(standardize)\n",
    "    for col in cols:\n",
    "        wanted_z[col] = wanted_z[col] * weights[col]\n",
    "    wanted_z = pd.concat([wanted_z, df.Major], axis=1)\n",
    "    wanted_z = pd.concat([wanted_z, df.Major_category], axis=1)\n",
    "    \n",
    "    # Sum the standardized values\n",
    "    wanted_z['Sums'] = wanted_z[cols].sum(axis=1)\n",
    "    \n",
    "    # Create output: df_rankings and top_5\n",
    "    df_rankings = wanted_z.sort_values(by='Sums', ascending=False).reset_index(drop=True)\n",
    "    top_5 = wanted_z.sort_values(by='Sums', ascending=False).Major[:5].reset_index(drop=True)\n",
    "    \n",
    "    return df_rankings, top_5, weights"
   ]
  },
  {
   "cell_type": "code",
   "execution_count": 18,
   "metadata": {},
   "outputs": [
    {
     "name": "stdout",
     "output_type": "stream",
     "text": [
      "Major rankings by columns Median, Employment_rate, Full_time_rate: \n"
     ]
    },
    {
     "data": {
      "text/html": [
       "<div>\n",
       "<style scoped>\n",
       "    .dataframe tbody tr th:only-of-type {\n",
       "        vertical-align: middle;\n",
       "    }\n",
       "\n",
       "    .dataframe tbody tr th {\n",
       "        vertical-align: top;\n",
       "    }\n",
       "\n",
       "    .dataframe thead th {\n",
       "        text-align: right;\n",
       "    }\n",
       "</style>\n",
       "<table border=\"1\" class=\"dataframe\">\n",
       "  <thead>\n",
       "    <tr style=\"text-align: right;\">\n",
       "      <th></th>\n",
       "      <th>Median</th>\n",
       "      <th>Employment_rate</th>\n",
       "      <th>Full_time_rate</th>\n",
       "      <th>Major</th>\n",
       "      <th>Major_category</th>\n",
       "      <th>Sums</th>\n",
       "    </tr>\n",
       "  </thead>\n",
       "  <tbody>\n",
       "    <tr>\n",
       "      <th>0</th>\n",
       "      <td>1.239377</td>\n",
       "      <td>0.147104</td>\n",
       "      <td>3.295341</td>\n",
       "      <td>INDUSTRIAL AND MANUFACTURING ENGINEERING</td>\n",
       "      <td>Engineering</td>\n",
       "      <td>4.681822</td>\n",
       "    </tr>\n",
       "    <tr>\n",
       "      <th>1</th>\n",
       "      <td>4.635146</td>\n",
       "      <td>-0.173537</td>\n",
       "      <td>0.133357</td>\n",
       "      <td>PETROLEUM ENGINEERING</td>\n",
       "      <td>Engineering</td>\n",
       "      <td>4.594966</td>\n",
       "    </tr>\n",
       "    <tr>\n",
       "      <th>2</th>\n",
       "      <td>0.424392</td>\n",
       "      <td>1.782594</td>\n",
       "      <td>2.311413</td>\n",
       "      <td>MISCELLANEOUS ENGINEERING TECHNOLOGIES</td>\n",
       "      <td>Engineering</td>\n",
       "      <td>4.518399</td>\n",
       "    </tr>\n",
       "    <tr>\n",
       "      <th>3</th>\n",
       "      <td>0.560223</td>\n",
       "      <td>2.347443</td>\n",
       "      <td>1.572525</td>\n",
       "      <td>COMPUTER AND INFORMATION SYSTEMS</td>\n",
       "      <td>Computers &amp; Mathematics</td>\n",
       "      <td>4.480192</td>\n",
       "    </tr>\n",
       "    <tr>\n",
       "      <th>4</th>\n",
       "      <td>3.344754</td>\n",
       "      <td>-0.592262</td>\n",
       "      <td>1.644819</td>\n",
       "      <td>PHARMACY PHARMACEUTICAL SCIENCES AND ADMINISTR...</td>\n",
       "      <td>Health</td>\n",
       "      <td>4.397311</td>\n",
       "    </tr>\n",
       "    <tr>\n",
       "      <th>5</th>\n",
       "      <td>1.443123</td>\n",
       "      <td>1.969161</td>\n",
       "      <td>0.524088</td>\n",
       "      <td>COMPUTER SCIENCE</td>\n",
       "      <td>Computers &amp; Mathematics</td>\n",
       "      <td>3.936372</td>\n",
       "    </tr>\n",
       "    <tr>\n",
       "      <th>6</th>\n",
       "      <td>1.578954</td>\n",
       "      <td>1.920251</td>\n",
       "      <td>0.395768</td>\n",
       "      <td>COMPUTER ENGINEERING</td>\n",
       "      <td>Engineering</td>\n",
       "      <td>3.894973</td>\n",
       "    </tr>\n",
       "    <tr>\n",
       "      <th>7</th>\n",
       "      <td>0.220646</td>\n",
       "      <td>1.733442</td>\n",
       "      <td>1.450736</td>\n",
       "      <td>MECHANICAL ENGINEERING RELATED TECHNOLOGIES</td>\n",
       "      <td>Engineering</td>\n",
       "      <td>3.404825</td>\n",
       "    </tr>\n",
       "    <tr>\n",
       "      <th>8</th>\n",
       "      <td>2.393939</td>\n",
       "      <td>1.620099</td>\n",
       "      <td>-0.635983</td>\n",
       "      <td>MATHEMATICS AND COMPUTER SCIENCE</td>\n",
       "      <td>Computers &amp; Mathematics</td>\n",
       "      <td>3.378055</td>\n",
       "    </tr>\n",
       "    <tr>\n",
       "      <th>9</th>\n",
       "      <td>1.035631</td>\n",
       "      <td>2.319150</td>\n",
       "      <td>-0.213084</td>\n",
       "      <td>MANAGEMENT INFORMATION SYSTEMS AND STATISTICS</td>\n",
       "      <td>Business</td>\n",
       "      <td>3.141697</td>\n",
       "    </tr>\n",
       "  </tbody>\n",
       "</table>\n",
       "</div>"
      ],
      "text/plain": [
       "     Median  Employment_rate  Full_time_rate  \\\n",
       "0  1.239377         0.147104        3.295341   \n",
       "1  4.635146        -0.173537        0.133357   \n",
       "2  0.424392         1.782594        2.311413   \n",
       "3  0.560223         2.347443        1.572525   \n",
       "4  3.344754        -0.592262        1.644819   \n",
       "5  1.443123         1.969161        0.524088   \n",
       "6  1.578954         1.920251        0.395768   \n",
       "7  0.220646         1.733442        1.450736   \n",
       "8  2.393939         1.620099       -0.635983   \n",
       "9  1.035631         2.319150       -0.213084   \n",
       "\n",
       "                                               Major           Major_category  \\\n",
       "0           INDUSTRIAL AND MANUFACTURING ENGINEERING              Engineering   \n",
       "1                              PETROLEUM ENGINEERING              Engineering   \n",
       "2             MISCELLANEOUS ENGINEERING TECHNOLOGIES              Engineering   \n",
       "3                   COMPUTER AND INFORMATION SYSTEMS  Computers & Mathematics   \n",
       "4  PHARMACY PHARMACEUTICAL SCIENCES AND ADMINISTR...                   Health   \n",
       "5                                   COMPUTER SCIENCE  Computers & Mathematics   \n",
       "6                               COMPUTER ENGINEERING              Engineering   \n",
       "7        MECHANICAL ENGINEERING RELATED TECHNOLOGIES              Engineering   \n",
       "8                   MATHEMATICS AND COMPUTER SCIENCE  Computers & Mathematics   \n",
       "9      MANAGEMENT INFORMATION SYSTEMS AND STATISTICS                 Business   \n",
       "\n",
       "       Sums  \n",
       "0  4.681822  \n",
       "1  4.594966  \n",
       "2  4.518399  \n",
       "3  4.480192  \n",
       "4  4.397311  \n",
       "5  3.936372  \n",
       "6  3.894973  \n",
       "7  3.404825  \n",
       "8  3.378055  \n",
       "9  3.141697  "
      ]
     },
     "metadata": {},
     "output_type": "display_data"
    },
    {
     "name": "stdout",
     "output_type": "stream",
     "text": [
      "\n",
      "Top 5 majors by columns Median, Employment_rate, Full_time_rate: \n"
     ]
    },
    {
     "data": {
      "text/plain": [
       "0             INDUSTRIAL AND MANUFACTURING ENGINEERING\n",
       "1                                PETROLEUM ENGINEERING\n",
       "2               MISCELLANEOUS ENGINEERING TECHNOLOGIES\n",
       "3                     COMPUTER AND INFORMATION SYSTEMS\n",
       "4    PHARMACY PHARMACEUTICAL SCIENCES AND ADMINISTR...\n",
       "Name: Major, dtype: object"
      ]
     },
     "metadata": {},
     "output_type": "display_data"
    },
    {
     "name": "stdout",
     "output_type": "stream",
     "text": [
      "\n",
      "Weights: {'Median': 1.0, 'Full_time_rate': 1.15, 'Employment_rate': 1.3}\n"
     ]
    }
   ],
   "source": [
    "# Example: best major when considering median income, employment rate, and full time rate\n",
    "cols = ['Median', 'Employment_rate', 'Full_time_rate']\n",
    "rankings = [3, 1, 2]\n",
    "df_rankings, top_5, weights = optimize_weights(all_wanted, cols, rankings)\n",
    "\n",
    "print('Major rankings by columns ' + ', '.join(cols) + ': ')\n",
    "display(df_rankings.head(10))\n",
    "print('\\nTop 5 majors by columns ' + ', '.join(cols) + ': ')\n",
    "display(top_5)\n",
    "print('\\nWeights: ' + str(weights))"
   ]
  },
  {
   "cell_type": "markdown",
   "metadata": {},
   "source": [
    "### Discussion:\n",
    "INSERT DISCUSSION HERE"
   ]
  },
  {
   "cell_type": "markdown",
   "metadata": {},
   "source": [
    "## What is the male to female ratio for popular majors?\n",
    "\n",
    "INSERT INTRO HERE"
   ]
  },
  {
   "cell_type": "code",
   "execution_count": 19,
   "metadata": {},
   "outputs": [
    {
     "data": {
      "text/html": [
       "<div>\n",
       "<style scoped>\n",
       "    .dataframe tbody tr th:only-of-type {\n",
       "        vertical-align: middle;\n",
       "    }\n",
       "\n",
       "    .dataframe tbody tr th {\n",
       "        vertical-align: top;\n",
       "    }\n",
       "\n",
       "    .dataframe thead th {\n",
       "        text-align: right;\n",
       "    }\n",
       "</style>\n",
       "<table border=\"1\" class=\"dataframe\">\n",
       "  <thead>\n",
       "    <tr style=\"text-align: right;\">\n",
       "      <th></th>\n",
       "      <th>Major</th>\n",
       "      <th>Major_category</th>\n",
       "      <th>Median</th>\n",
       "      <th>P25th</th>\n",
       "      <th>P75th</th>\n",
       "      <th>Total</th>\n",
       "      <th>Employment_rate</th>\n",
       "      <th>Full_time_rate</th>\n",
       "      <th>Part_time_rate</th>\n",
       "      <th>PercentWomen</th>\n",
       "      <th>Unemployment_rate</th>\n",
       "    </tr>\n",
       "  </thead>\n",
       "  <tbody>\n",
       "    <tr>\n",
       "      <th>0</th>\n",
       "      <td>GENERAL AGRICULTURE</td>\n",
       "      <td>Agriculture &amp; Natural Resources</td>\n",
       "      <td>50000</td>\n",
       "      <td>34000</td>\n",
       "      <td>80000.0</td>\n",
       "      <td>128148</td>\n",
       "      <td>0.704225</td>\n",
       "      <td>0.790509</td>\n",
       "      <td>0.115434</td>\n",
       "      <td>0.120564</td>\n",
       "      <td>0.295775</td>\n",
       "    </tr>\n",
       "    <tr>\n",
       "      <th>1</th>\n",
       "      <td>AGRICULTURE PRODUCTION AND MANAGEMENT</td>\n",
       "      <td>Agriculture &amp; Natural Resources</td>\n",
       "      <td>54000</td>\n",
       "      <td>36000</td>\n",
       "      <td>80000.0</td>\n",
       "      <td>95326</td>\n",
       "      <td>0.806338</td>\n",
       "      <td>0.735450</td>\n",
       "      <td>0.224868</td>\n",
       "      <td>0.101852</td>\n",
       "      <td>0.193662</td>\n",
       "    </tr>\n",
       "    <tr>\n",
       "      <th>2</th>\n",
       "      <td>AGRICULTURAL ECONOMICS</td>\n",
       "      <td>Agriculture &amp; Natural Resources</td>\n",
       "      <td>63000</td>\n",
       "      <td>40000</td>\n",
       "      <td>98000.0</td>\n",
       "      <td>33955</td>\n",
       "      <td>0.775173</td>\n",
       "      <td>0.651869</td>\n",
       "      <td>0.155374</td>\n",
       "      <td>0.153037</td>\n",
       "      <td>0.224827</td>\n",
       "    </tr>\n",
       "    <tr>\n",
       "      <th>3</th>\n",
       "      <td>ANIMAL SCIENCES</td>\n",
       "      <td>Agriculture &amp; Natural Resources</td>\n",
       "      <td>46000</td>\n",
       "      <td>30000</td>\n",
       "      <td>72000.0</td>\n",
       "      <td>103549</td>\n",
       "      <td>0.783948</td>\n",
       "      <td>0.849762</td>\n",
       "      <td>0.119237</td>\n",
       "      <td>0.107313</td>\n",
       "      <td>0.216052</td>\n",
       "    </tr>\n",
       "    <tr>\n",
       "      <th>4</th>\n",
       "      <td>FOOD SCIENCE</td>\n",
       "      <td>Agriculture &amp; Natural Resources</td>\n",
       "      <td>62000</td>\n",
       "      <td>38500</td>\n",
       "      <td>90000.0</td>\n",
       "      <td>24280</td>\n",
       "      <td>0.711738</td>\n",
       "      <td>0.718227</td>\n",
       "      <td>0.160570</td>\n",
       "      <td>0.341631</td>\n",
       "      <td>0.288262</td>\n",
       "    </tr>\n",
       "  </tbody>\n",
       "</table>\n",
       "</div>"
      ],
      "text/plain": [
       "                                   Major                   Major_category  \\\n",
       "0                    GENERAL AGRICULTURE  Agriculture & Natural Resources   \n",
       "1  AGRICULTURE PRODUCTION AND MANAGEMENT  Agriculture & Natural Resources   \n",
       "2                 AGRICULTURAL ECONOMICS  Agriculture & Natural Resources   \n",
       "3                        ANIMAL SCIENCES  Agriculture & Natural Resources   \n",
       "4                           FOOD SCIENCE  Agriculture & Natural Resources   \n",
       "\n",
       "   Median  P25th    P75th   Total  Employment_rate  Full_time_rate  \\\n",
       "0   50000  34000  80000.0  128148         0.704225        0.790509   \n",
       "1   54000  36000  80000.0   95326         0.806338        0.735450   \n",
       "2   63000  40000  98000.0   33955         0.775173        0.651869   \n",
       "3   46000  30000  72000.0  103549         0.783948        0.849762   \n",
       "4   62000  38500  90000.0   24280         0.711738        0.718227   \n",
       "\n",
       "   Part_time_rate  PercentWomen  Unemployment_rate  \n",
       "0        0.115434      0.120564           0.295775  \n",
       "1        0.224868      0.101852           0.193662  \n",
       "2        0.155374      0.153037           0.224827  \n",
       "3        0.119237      0.107313           0.216052  \n",
       "4        0.160570      0.341631           0.288262  "
      ]
     },
     "execution_count": 19,
     "metadata": {},
     "output_type": "execute_result"
    }
   ],
   "source": [
    "## looking at the data\n",
    "all_wanted.head()"
   ]
  },
  {
   "cell_type": "code",
   "execution_count": 20,
   "metadata": {},
   "outputs": [
    {
     "data": {
      "text/plain": [
       "<matplotlib.axes._subplots.AxesSubplot at 0x122dea588>"
      ]
     },
     "execution_count": 20,
     "metadata": {},
     "output_type": "execute_result"
    },
    {
     "data": {
      "image/png": "[encoded data removed]",
      "text/plain": [
       "<Figure size 432x288 with 1 Axes>"
      ]
     },
     "metadata": {
      "needs_background": "light"
     },
     "output_type": "display_data"
    }
   ],
   "source": [
    "#proportion of women in each major category\n",
    "proportion_women = all_wanted.groupby('Major_category').mean().reset_index()\n",
    "proportion_women = proportion_women.sort_values('PercentWomen', ascending = False)\n",
    "proportion_women.plot(kind='bar', x='Major_category', y='PercentWomen')"
   ]
  },
  {
   "cell_type": "markdown",
   "metadata": {},
   "source": [
    "### Correlation between proportion of women vs other factors\n",
    "let's see if theres a correlation between %women and other factors for each major"
   ]
  },
  {
   "cell_type": "code",
   "execution_count": 21,
   "metadata": {},
   "outputs": [
    {
     "name": "stdout",
     "output_type": "stream",
     "text": [
      "R-Value = 0.011109429209186594\n"
     ]
    },
    {
     "data": {
      "image/png": "[encoded data removed]",
      "text/plain": [
       "<Figure size 360x360 with 1 Axes>"
      ]
     },
     "metadata": {
      "needs_background": "light"
     },
     "output_type": "display_data"
    }
   ],
   "source": [
    "# linregress plot for median income and percent women in each major\n",
    "sns.lmplot(data=all_wanted, x='PercentWomen', y='Median')\n",
    "rval = linregress(all_wanted['PercentWomen'], all_wanted['Median']).rvalue\n",
    "print('R-Value = ' + str(rval))"
   ]
  },
  {
   "cell_type": "markdown",
   "metadata": {},
   "source": [
    "INSERT OBSERVATIONS HERE:\n",
    "little/ no correlation"
   ]
  },
  {
   "cell_type": "code",
   "execution_count": 22,
   "metadata": {},
   "outputs": [
    {
     "name": "stdout",
     "output_type": "stream",
     "text": [
      "R-Value = 0.11128981367778752\n"
     ]
    },
    {
     "data": {
      "image/png": "[encoded data removed]",
      "text/plain": [
       "<Figure size 360x360 with 1 Axes>"
      ]
     },
     "metadata": {
      "needs_background": "light"
     },
     "output_type": "display_data"
    }
   ],
   "source": [
    "# linregress plot for unemployment rate and percent women in each major\n",
    "sns.lmplot(data=all_wanted, x='PercentWomen', y='Unemployment_rate')\n",
    "rval = linregress(all_wanted['PercentWomen'], all_wanted['Unemployment_rate']).rvalue\n",
    "print('R-Value = ' + str(rval))"
   ]
  },
  {
   "cell_type": "markdown",
   "metadata": {},
   "source": [
    "INSERT OBSERVATIONS HERE:\n",
    "not enough correlation for %women vs unemployment rate"
   ]
  },
  {
   "cell_type": "code",
   "execution_count": 23,
   "metadata": {},
   "outputs": [
    {
     "name": "stdout",
     "output_type": "stream",
     "text": [
      "R-Value = -0.43444282080360086\n"
     ]
    },
    {
     "data": {
      "image/png": "[encoded data removed]",
      "text/plain": [
       "<Figure size 360x360 with 1 Axes>"
      ]
     },
     "metadata": {
      "needs_background": "light"
     },
     "output_type": "display_data"
    }
   ],
   "source": [
    "# linregress plot for full time rate and percent women in each major\n",
    "sns.lmplot(data=all_wanted, x='PercentWomen', y='Full_time_rate')\n",
    "rval = linregress(all_wanted['PercentWomen'], all_wanted['Full_time_rate']).rvalue\n",
    "print('R-Value = ' + str(rval))"
   ]
  },
  {
   "cell_type": "markdown",
   "metadata": {},
   "source": [
    "INSERT OBSERVATIONS HERE: \n",
    "moderate negative correlation between full_time_rate and percentage women in each major"
   ]
  },
  {
   "cell_type": "code",
   "execution_count": null,
   "metadata": {},
   "outputs": [],
   "source": []
  },
  {
   "cell_type": "markdown",
   "metadata": {},
   "source": [
    "### Using the optimization model\n",
    "\n",
    "using optimizaiton model, we can compare each major success with the proportion of women within each major category\n",
    "\n",
    "for this portion, we consider the factors of median salary, employment rate, and full-time rate in our calculations."
   ]
  },
  {
   "cell_type": "code",
   "execution_count": 24,
   "metadata": {},
   "outputs": [
    {
     "data": {
      "text/html": [
       "<div>\n",
       "<style scoped>\n",
       "    .dataframe tbody tr th:only-of-type {\n",
       "        vertical-align: middle;\n",
       "    }\n",
       "\n",
       "    .dataframe tbody tr th {\n",
       "        vertical-align: top;\n",
       "    }\n",
       "\n",
       "    .dataframe thead th {\n",
       "        text-align: right;\n",
       "    }\n",
       "</style>\n",
       "<table border=\"1\" class=\"dataframe\">\n",
       "  <thead>\n",
       "    <tr style=\"text-align: right;\">\n",
       "      <th></th>\n",
       "      <th>Median</th>\n",
       "      <th>Employment_rate</th>\n",
       "      <th>Full_time_rate</th>\n",
       "      <th>Major</th>\n",
       "      <th>Major_category</th>\n",
       "      <th>Sums</th>\n",
       "    </tr>\n",
       "  </thead>\n",
       "  <tbody>\n",
       "    <tr>\n",
       "      <th>0</th>\n",
       "      <td>4.635146</td>\n",
       "      <td>-0.133490</td>\n",
       "      <td>0.115962</td>\n",
       "      <td>PETROLEUM ENGINEERING</td>\n",
       "      <td>Engineering</td>\n",
       "      <td>4.617619</td>\n",
       "    </tr>\n",
       "    <tr>\n",
       "      <th>1</th>\n",
       "      <td>3.344754</td>\n",
       "      <td>-0.455586</td>\n",
       "      <td>1.430277</td>\n",
       "      <td>PHARMACY PHARMACEUTICAL SCIENCES AND ADMINISTR...</td>\n",
       "      <td>Health</td>\n",
       "      <td>4.319445</td>\n",
       "    </tr>\n",
       "    <tr>\n",
       "      <th>2</th>\n",
       "      <td>1.239377</td>\n",
       "      <td>0.113157</td>\n",
       "      <td>2.865514</td>\n",
       "      <td>INDUSTRIAL AND MANUFACTURING ENGINEERING</td>\n",
       "      <td>Engineering</td>\n",
       "      <td>4.218048</td>\n",
       "    </tr>\n",
       "    <tr>\n",
       "      <th>3</th>\n",
       "      <td>0.424392</td>\n",
       "      <td>1.371226</td>\n",
       "      <td>2.009925</td>\n",
       "      <td>MISCELLANEOUS ENGINEERING TECHNOLOGIES</td>\n",
       "      <td>Engineering</td>\n",
       "      <td>3.805543</td>\n",
       "    </tr>\n",
       "    <tr>\n",
       "      <th>4</th>\n",
       "      <td>0.560223</td>\n",
       "      <td>1.805726</td>\n",
       "      <td>1.367413</td>\n",
       "      <td>COMPUTER AND INFORMATION SYSTEMS</td>\n",
       "      <td>Computers &amp; Mathematics</td>\n",
       "      <td>3.733362</td>\n",
       "    </tr>\n",
       "  </tbody>\n",
       "</table>\n",
       "</div>"
      ],
      "text/plain": [
       "     Median  Employment_rate  Full_time_rate  \\\n",
       "0  4.635146        -0.133490        0.115962   \n",
       "1  3.344754        -0.455586        1.430277   \n",
       "2  1.239377         0.113157        2.865514   \n",
       "3  0.424392         1.371226        2.009925   \n",
       "4  0.560223         1.805726        1.367413   \n",
       "\n",
       "                                               Major           Major_category  \\\n",
       "0                              PETROLEUM ENGINEERING              Engineering   \n",
       "1  PHARMACY PHARMACEUTICAL SCIENCES AND ADMINISTR...                   Health   \n",
       "2           INDUSTRIAL AND MANUFACTURING ENGINEERING              Engineering   \n",
       "3             MISCELLANEOUS ENGINEERING TECHNOLOGIES              Engineering   \n",
       "4                   COMPUTER AND INFORMATION SYSTEMS  Computers & Mathematics   \n",
       "\n",
       "       Sums  \n",
       "0  4.617619  \n",
       "1  4.319445  \n",
       "2  4.218048  \n",
       "3  3.805543  \n",
       "4  3.733362  "
      ]
     },
     "execution_count": 24,
     "metadata": {},
     "output_type": "execute_result"
    },
    {
     "data": {
      "image/png": "[encoded data removed]",
      "text/plain": [
       "<Figure size 432x288 with 1 Axes>"
      ]
     },
     "metadata": {
      "needs_background": "light"
     },
     "output_type": "display_data"
    }
   ],
   "source": [
    "# using the optimize method above, optimize majors\n",
    "cols = ['Median', 'Employment_rate', 'Full_time_rate']\n",
    "rankings, top_5 = optimize(all_wanted, cols)\n",
    "\n",
    "#plot based on each major category\n",
    "rankings.groupby('Major_category').mean().reset_index().sort_values('Sums', ascending = False).plot(kind='bar', x='Major_category', y='Sums')\n",
    "\n",
    "#dataframe shows top majors\n",
    "rankings.head()"
   ]
  },
  {
   "cell_type": "code",
   "execution_count": 25,
   "metadata": {},
   "outputs": [
    {
     "data": {
      "text/html": [
       "<div>\n",
       "<style scoped>\n",
       "    .dataframe tbody tr th:only-of-type {\n",
       "        vertical-align: middle;\n",
       "    }\n",
       "\n",
       "    .dataframe tbody tr th {\n",
       "        vertical-align: top;\n",
       "    }\n",
       "\n",
       "    .dataframe thead th {\n",
       "        text-align: right;\n",
       "    }\n",
       "</style>\n",
       "<table border=\"1\" class=\"dataframe\">\n",
       "  <thead>\n",
       "    <tr style=\"text-align: right;\">\n",
       "      <th></th>\n",
       "      <th>Major</th>\n",
       "      <th>Major_category</th>\n",
       "      <th>Median</th>\n",
       "      <th>P25th</th>\n",
       "      <th>P75th</th>\n",
       "      <th>Total</th>\n",
       "      <th>Employment_rate</th>\n",
       "      <th>Full_time_rate</th>\n",
       "      <th>Part_time_rate</th>\n",
       "      <th>PercentWomen</th>\n",
       "      <th>Unemployment_rate</th>\n",
       "    </tr>\n",
       "  </thead>\n",
       "  <tbody>\n",
       "    <tr>\n",
       "      <th>163</th>\n",
       "      <td>MARKETING AND MARKETING RESEARCH</td>\n",
       "      <td>Business</td>\n",
       "      <td>56000</td>\n",
       "      <td>38500</td>\n",
       "      <td>90000.0</td>\n",
       "      <td>1114624</td>\n",
       "      <td>0.798588</td>\n",
       "      <td>0.733433</td>\n",
       "      <td>0.186251</td>\n",
       "      <td>0.968954</td>\n",
       "      <td>0.201412</td>\n",
       "    </tr>\n",
       "    <tr>\n",
       "      <th>162</th>\n",
       "      <td>BUSINESS ECONOMICS</td>\n",
       "      <td>Business</td>\n",
       "      <td>65000</td>\n",
       "      <td>45000</td>\n",
       "      <td>100000.0</td>\n",
       "      <td>75547</td>\n",
       "      <td>0.767509</td>\n",
       "      <td>0.521827</td>\n",
       "      <td>0.362131</td>\n",
       "      <td>0.967998</td>\n",
       "      <td>0.232491</td>\n",
       "    </tr>\n",
       "    <tr>\n",
       "      <th>50</th>\n",
       "      <td>GEOLOGICAL AND GEOPHYSICAL ENGINEERING</td>\n",
       "      <td>Engineering</td>\n",
       "      <td>85000</td>\n",
       "      <td>55000</td>\n",
       "      <td>125000.0</td>\n",
       "      <td>6264</td>\n",
       "      <td>0.657727</td>\n",
       "      <td>0.507327</td>\n",
       "      <td>0.369235</td>\n",
       "      <td>0.927807</td>\n",
       "      <td>0.342273</td>\n",
       "    </tr>\n",
       "    <tr>\n",
       "      <th>137</th>\n",
       "      <td>FINE ARTS</td>\n",
       "      <td>Arts</td>\n",
       "      <td>45000</td>\n",
       "      <td>30000</td>\n",
       "      <td>70000.0</td>\n",
       "      <td>571961</td>\n",
       "      <td>0.676551</td>\n",
       "      <td>0.720915</td>\n",
       "      <td>0.222197</td>\n",
       "      <td>0.923745</td>\n",
       "      <td>0.323449</td>\n",
       "    </tr>\n",
       "    <tr>\n",
       "      <th>149</th>\n",
       "      <td>MEDICAL ASSISTING SERVICES</td>\n",
       "      <td>Health</td>\n",
       "      <td>55000</td>\n",
       "      <td>37000</td>\n",
       "      <td>75000.0</td>\n",
       "      <td>64316</td>\n",
       "      <td>0.797298</td>\n",
       "      <td>0.633558</td>\n",
       "      <td>0.273650</td>\n",
       "      <td>0.910933</td>\n",
       "      <td>0.202702</td>\n",
       "    </tr>\n",
       "  </tbody>\n",
       "</table>\n",
       "</div>"
      ],
      "text/plain": [
       "                                      Major Major_category  Median  P25th  \\\n",
       "163        MARKETING AND MARKETING RESEARCH       Business   56000  38500   \n",
       "162                      BUSINESS ECONOMICS       Business   65000  45000   \n",
       "50   GEOLOGICAL AND GEOPHYSICAL ENGINEERING    Engineering   85000  55000   \n",
       "137                               FINE ARTS           Arts   45000  30000   \n",
       "149              MEDICAL ASSISTING SERVICES         Health   55000  37000   \n",
       "\n",
       "        P75th    Total  Employment_rate  Full_time_rate  Part_time_rate  \\\n",
       "163   90000.0  1114624         0.798588        0.733433        0.186251   \n",
       "162  100000.0    75547         0.767509        0.521827        0.362131   \n",
       "50   125000.0     6264         0.657727        0.507327        0.369235   \n",
       "137   70000.0   571961         0.676551        0.720915        0.222197   \n",
       "149   75000.0    64316         0.797298        0.633558        0.273650   \n",
       "\n",
       "     PercentWomen  Unemployment_rate  \n",
       "163      0.968954           0.201412  \n",
       "162      0.967998           0.232491  \n",
       "50       0.927807           0.342273  \n",
       "137      0.923745           0.323449  \n",
       "149      0.910933           0.202702  "
      ]
     },
     "execution_count": 25,
     "metadata": {},
     "output_type": "execute_result"
    },
    {
     "data": {
      "image/png": "[encoded data removed]",
      "text/plain": [
       "<Figure size 432x288 with 1 Axes>"
      ]
     },
     "metadata": {
      "needs_background": "light"
     },
     "output_type": "display_data"
    }
   ],
   "source": [
    "# proportion of women in each major\n",
    "top_women = all_wanted.sort_values('PercentWomen', ascending=False)\n",
    "\n",
    "#plot based on major category\n",
    "top_women.groupby('Major_category').mean().reset_index().sort_values('PercentWomen', ascending = False).plot(kind='bar', x='Major_category', y='PercentWomen')\n",
    "\n",
    "#df shows majors with most women to least women\n",
    "top_women.head()"
   ]
  },
  {
   "cell_type": "code",
   "execution_count": 26,
   "metadata": {},
   "outputs": [
    {
     "data": {
      "text/plain": [
       "-0.6466473849773962"
      ]
     },
     "execution_count": 26,
     "metadata": {},
     "output_type": "execute_result"
    }
   ],
   "source": [
    "# is there a correlation between the 2?\n",
    "combined = pd.merge(rankings, top_women, on='Major')\n",
    "corr = rankings['Sums'].corr(top_women['PercentWomen'])\n",
    "corr"
   ]
  },
  {
   "cell_type": "code",
   "execution_count": 27,
   "metadata": {},
   "outputs": [
    {
     "name": "stdout",
     "output_type": "stream",
     "text": [
      "R-Value = -0.30526030174926694\n"
     ]
    },
    {
     "data": {
      "image/png": "[encoded data removed]",
      "text/plain": [
       "<Figure size 360x360 with 1 Axes>"
      ]
     },
     "metadata": {
      "needs_background": "light"
     },
     "output_type": "display_data"
    }
   ],
   "source": [
    "# linregress plot\n",
    "sns.lmplot(data=combined, x='PercentWomen', y='Sums')\n",
    "rval = linregress(combined['PercentWomen'], combined['Sums']).rvalue\n",
    "print('R-Value = ' + str(rval))"
   ]
  },
  {
   "cell_type": "markdown",
   "metadata": {},
   "source": [
    "## Discussion\n",
    "INSERT DISCUSSION HERE"
   ]
  },
  {
   "cell_type": "markdown",
   "metadata": {},
   "source": [
    "# Ethics & Privacy"
   ]
  },
  {
   "cell_type": "markdown",
   "metadata": {},
   "source": [
    "*Fill in your ethics & privacy discussion here*"
   ]
  },
  {
   "cell_type": "markdown",
   "metadata": {},
   "source": [
    "# Conclusion & Discussion"
   ]
  },
  {
   "cell_type": "markdown",
   "metadata": {},
   "source": [
    "*Fill in your discussion information here*"
   ]
  }
 ],
 "metadata": {
  "kernelspec": {
   "display_name": "Python 3",
   "language": "python",
   "name": "python3"
  },
  "language_info": {
   "codemirror_mode": {
    "name": "ipython",
    "version": 3
   },
   "file_extension": ".py",
   "mimetype": "text/x-python",
   "name": "python",
   "nbconvert_exporter": "python",
   "pygments_lexer": "ipython3",
   "version": "3.6.2"
  }
 },
 "nbformat": 4,
 "nbformat_minor": 2
}
