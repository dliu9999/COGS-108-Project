{
 "cells": [
  {
   "cell_type": "code",
   "execution_count": 26,
   "metadata": {},
   "outputs": [],
   "source": [
    "import numpy as np\n",
    "import pandas as pd\n",
    "import geopandas as gpd\n",
    "import os"
   ]
  },
  {
   "cell_type": "code",
   "execution_count": null,
   "metadata": {},
   "outputs": [],
   "source": [
    "ca_fp = os.path.join('data', 'san-diego-2017.csv')\n",
    "ca = gpd.read_file()"
   ]
  },
  {
   "cell_type": "code",
   "execution_count": 20,
   "metadata": {},
   "outputs": [],
   "source": [
    "sd_fp = os.path.join('data', 'san-diego-2017.csv')\n",
    "sd_salaries = pd.read_csv(fp)"
   ]
  },
  {
   "cell_type": "code",
   "execution_count": 23,
   "metadata": {},
   "outputs": [
    {
     "data": {
      "text/html": [
       "<div>\n",
       "<style scoped>\n",
       "    .dataframe tbody tr th:only-of-type {\n",
       "        vertical-align: middle;\n",
       "    }\n",
       "\n",
       "    .dataframe tbody tr th {\n",
       "        vertical-align: top;\n",
       "    }\n",
       "\n",
       "    .dataframe thead th {\n",
       "        text-align: right;\n",
       "    }\n",
       "</style>\n",
       "<table border=\"1\" class=\"dataframe\">\n",
       "  <thead>\n",
       "    <tr style=\"text-align: right;\">\n",
       "      <th></th>\n",
       "      <th>Employee Name</th>\n",
       "      <th>Job Title</th>\n",
       "      <th>Base Pay</th>\n",
       "      <th>Overtime Pay</th>\n",
       "      <th>Other Pay</th>\n",
       "      <th>Benefits</th>\n",
       "      <th>Total Pay</th>\n",
       "      <th>Total Pay &amp; Benefits</th>\n",
       "      <th>Year</th>\n",
       "      <th>Notes</th>\n",
       "      <th>Agency</th>\n",
       "      <th>Status</th>\n",
       "    </tr>\n",
       "  </thead>\n",
       "  <tbody>\n",
       "    <tr>\n",
       "      <th>0</th>\n",
       "      <td>David P Gerboth</td>\n",
       "      <td>Fire Battalion Chief</td>\n",
       "      <td>81917.0</td>\n",
       "      <td>172590.0</td>\n",
       "      <td>68870.00</td>\n",
       "      <td>5194.0</td>\n",
       "      <td>323377.0</td>\n",
       "      <td>328571.0</td>\n",
       "      <td>2017</td>\n",
       "      <td>NaN</td>\n",
       "      <td>San Diego</td>\n",
       "      <td>FT</td>\n",
       "    </tr>\n",
       "    <tr>\n",
       "      <th>1</th>\n",
       "      <td>Glen A Bartolome</td>\n",
       "      <td>Fire Captain</td>\n",
       "      <td>85904.0</td>\n",
       "      <td>120682.0</td>\n",
       "      <td>99408.00</td>\n",
       "      <td>10107.0</td>\n",
       "      <td>305994.0</td>\n",
       "      <td>316101.0</td>\n",
       "      <td>2017</td>\n",
       "      <td>NaN</td>\n",
       "      <td>San Diego</td>\n",
       "      <td>FT</td>\n",
       "    </tr>\n",
       "    <tr>\n",
       "      <th>3</th>\n",
       "      <td>David W Pilkerton</td>\n",
       "      <td>Fire Battalion Chief</td>\n",
       "      <td>100110.0</td>\n",
       "      <td>118798.0</td>\n",
       "      <td>62895.00</td>\n",
       "      <td>18746.0</td>\n",
       "      <td>281803.0</td>\n",
       "      <td>300549.0</td>\n",
       "      <td>2017</td>\n",
       "      <td>NaN</td>\n",
       "      <td>San Diego</td>\n",
       "      <td>FT</td>\n",
       "    </tr>\n",
       "    <tr>\n",
       "      <th>4</th>\n",
       "      <td>Daniel S Reeves</td>\n",
       "      <td>Fire Captain</td>\n",
       "      <td>41389.0</td>\n",
       "      <td>196284.0</td>\n",
       "      <td>42027.00</td>\n",
       "      <td>20125.0</td>\n",
       "      <td>279700.0</td>\n",
       "      <td>299825.0</td>\n",
       "      <td>2017</td>\n",
       "      <td>NaN</td>\n",
       "      <td>San Diego</td>\n",
       "      <td>PT</td>\n",
       "    </tr>\n",
       "    <tr>\n",
       "      <th>5</th>\n",
       "      <td>Edward S Jones</td>\n",
       "      <td>Fire Captain</td>\n",
       "      <td>46020.0</td>\n",
       "      <td>171896.0</td>\n",
       "      <td>59944.00</td>\n",
       "      <td>19669.0</td>\n",
       "      <td>277860.0</td>\n",
       "      <td>297529.0</td>\n",
       "      <td>2017</td>\n",
       "      <td>NaN</td>\n",
       "      <td>San Diego</td>\n",
       "      <td>PT</td>\n",
       "    </tr>\n",
       "  </tbody>\n",
       "</table>\n",
       "</div>"
      ],
      "text/plain": [
       "       Employee Name             Job Title  Base Pay  Overtime Pay Other Pay  \\\n",
       "0    David P Gerboth  Fire Battalion Chief   81917.0      172590.0  68870.00   \n",
       "1   Glen A Bartolome          Fire Captain   85904.0      120682.0  99408.00   \n",
       "3  David W Pilkerton  Fire Battalion Chief  100110.0      118798.0  62895.00   \n",
       "4    Daniel S Reeves          Fire Captain   41389.0      196284.0  42027.00   \n",
       "5     Edward S Jones          Fire Captain   46020.0      171896.0  59944.00   \n",
       "\n",
       "   Benefits  Total Pay  Total Pay & Benefits  Year  Notes     Agency Status  \n",
       "0    5194.0   323377.0              328571.0  2017    NaN  San Diego     FT  \n",
       "1   10107.0   305994.0              316101.0  2017    NaN  San Diego     FT  \n",
       "3   18746.0   281803.0              300549.0  2017    NaN  San Diego     FT  \n",
       "4   20125.0   279700.0              299825.0  2017    NaN  San Diego     PT  \n",
       "5   19669.0   277860.0              297529.0  2017    NaN  San Diego     PT  "
      ]
     },
     "execution_count": 23,
     "metadata": {},
     "output_type": "execute_result"
    }
   ],
   "source": [
    "fire_sd = sd_salaries[sd_salaries['Job Title'].str.lower().str.contains('fire')]\n",
    "fire_sd.head()"
   ]
  },
  {
   "cell_type": "code",
   "execution_count": 25,
   "metadata": {},
   "outputs": [
    {
     "data": {
      "text/plain": [
       "<matplotlib.axes._subplots.AxesSubplot at 0x1fbc16b25f8>"
      ]
     },
     "execution_count": 25,
     "metadata": {},
     "output_type": "execute_result"
    },
    {
     "data": {
      "image/png": "[encoded data removed]",
      "text/plain": [
       "<Figure size 432x288 with 1 Axes>"
      ]
     },
     "metadata": {
      "needs_background": "light"
     },
     "output_type": "display_data"
    }
   ],
   "source": [
    "fire_sd.groupby('Job Title')['Total Pay'].mean().plot(kind='bar')"
   ]
  },
  {
   "cell_type": "code",
   "execution_count": null,
   "metadata": {},
   "outputs": [],
   "source": []
  }
 ],
 "metadata": {
  "kernelspec": {
   "display_name": "Python 3",
   "language": "python",
   "name": "python3"
  },
  "language_info": {
   "codemirror_mode": {
    "name": "ipython",
    "version": 3
   },
   "file_extension": ".py",
   "mimetype": "text/x-python",
   "name": "python",
   "nbconvert_exporter": "python",
   "pygments_lexer": "ipython3",
   "version": "3.6.2"
  }
 },
 "nbformat": 4,
 "nbformat_minor": 2
}
