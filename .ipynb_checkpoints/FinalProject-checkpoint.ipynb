{
 "cells": [
  {
   "cell_type": "markdown",
   "metadata": {},
   "source": [
    "# COGS 108 - Final Project "
   ]
  },
  {
   "cell_type": "markdown",
   "metadata": {},
   "source": [
    "# Overview"
   ]
  },
  {
   "cell_type": "markdown",
   "metadata": {},
   "source": [
    "*Fill in your overview here*"
   ]
  },
  {
   "cell_type": "markdown",
   "metadata": {},
   "source": [
    "# Names\n",
    "\n",
    "- Amanda Chung\n",
    "- Christine Fann\n",
    "- Darren Liu\n",
    "- Kylee Peng\n",
    "- Priscila Romero"
   ]
  },
  {
   "cell_type": "markdown",
   "metadata": {},
   "source": [
    "# Group Members IDs\n",
    "\n",
    "- A########\n",
    "- A########\n",
    "- A15040930\n",
    "- A########\n",
    "- A########"
   ]
  },
  {
   "cell_type": "markdown",
   "metadata": {},
   "source": [
    "# Research Question"
   ]
  },
  {
   "cell_type": "markdown",
   "metadata": {},
   "source": [
    "What is the relationship between a college major and post-graduate success?\n",
    "- How does graduating with a certain major impact one's future career in pursuing further education or job opportunities?\n",
    "- What is our call to action based on the median salary of majors with lower popularity?\n",
    "- What is the male to female ratio for popular majors?\n"
   ]
  },
  {
   "cell_type": "markdown",
   "metadata": {},
   "source": [
    "## Background and Prior Work"
   ]
  },
  {
   "cell_type": "markdown",
   "metadata": {},
   "source": [
    "*Fill in your background and prior work here* \n",
    "\n",
    "References (include links):\n",
    "- 1)\n",
    "- 2)"
   ]
  },
  {
   "cell_type": "markdown",
   "metadata": {},
   "source": [
    "# Hypothesis\n"
   ]
  },
  {
   "cell_type": "markdown",
   "metadata": {},
   "source": [
    "*Fill in your hypotheses here*"
   ]
  },
  {
   "cell_type": "markdown",
   "metadata": {},
   "source": [
    "# Dataset(s)"
   ]
  },
  {
   "cell_type": "markdown",
   "metadata": {},
   "source": [
    "All our datasets are from https://github.com/fivethirtyeight/data/tree/master/college-majors\n",
    "\n",
    "(Copy this information for each dataset)\n",
    "- Dataset Name:\n",
    "- Link to the dataset:\n",
    "- Number of observations:\n",
    "\n",
    "1-2 sentences describing each dataset. \n",
    "\n",
    "If you plan to use multiple datasets, add 1-2 sentences about how you plan to combine these datasets."
   ]
  },
  {
   "cell_type": "markdown",
   "metadata": {},
   "source": [
    "# Setup"
   ]
  },
  {
   "cell_type": "code",
   "execution_count": 2,
   "metadata": {},
   "outputs": [],
   "source": [
    "%matplotlib inline\n",
    "import numpy as np\n",
    "import pandas as pd\n",
    "import seaborn as sns\n",
    "from scipy.stats import linregress"
   ]
  },
  {
   "cell_type": "code",
   "execution_count": 19,
   "metadata": {},
   "outputs": [],
   "source": [
    "# read datasets\n",
    "all_ages = pd.read_csv('data/all-ages.csv')\n",
    "grad_students = pd.read_csv('data/grad-students.csv')\n",
    "recent_grads = pd.read_csv('data/recent-grads.csv')\n",
    "women_stem = pd.read_csv('data/women-stem.csv')"
   ]
  },
  {
   "cell_type": "markdown",
   "metadata": {},
   "source": [
    "# Data Cleaning"
   ]
  },
  {
   "cell_type": "markdown",
   "metadata": {},
   "source": [
    "### Extract wanted columns"
   ]
  },
  {
   "cell_type": "code",
   "execution_count": 27,
   "metadata": {},
   "outputs": [
    {
     "data": {
      "text/html": [
       "<div>\n",
       "<style scoped>\n",
       "    .dataframe tbody tr th:only-of-type {\n",
       "        vertical-align: middle;\n",
       "    }\n",
       "\n",
       "    .dataframe tbody tr th {\n",
       "        vertical-align: top;\n",
       "    }\n",
       "\n",
       "    .dataframe thead th {\n",
       "        text-align: right;\n",
       "    }\n",
       "</style>\n",
       "<table border=\"1\" class=\"dataframe\">\n",
       "  <thead>\n",
       "    <tr style=\"text-align: right;\">\n",
       "      <th></th>\n",
       "      <th>Rank</th>\n",
       "      <th>Major</th>\n",
       "      <th>Major_category</th>\n",
       "      <th>Employed</th>\n",
       "      <th>Full_time</th>\n",
       "      <th>Part_time</th>\n",
       "      <th>Median</th>\n",
       "      <th>P25th</th>\n",
       "      <th>P75th</th>\n",
       "      <th>Total</th>\n",
       "    </tr>\n",
       "  </thead>\n",
       "  <tbody>\n",
       "    <tr>\n",
       "      <th>0</th>\n",
       "      <td>1</td>\n",
       "      <td>PETROLEUM ENGINEERING</td>\n",
       "      <td>Engineering</td>\n",
       "      <td>1976</td>\n",
       "      <td>1849</td>\n",
       "      <td>270</td>\n",
       "      <td>110000</td>\n",
       "      <td>95000</td>\n",
       "      <td>125000</td>\n",
       "      <td>2339.0</td>\n",
       "    </tr>\n",
       "    <tr>\n",
       "      <th>1</th>\n",
       "      <td>2</td>\n",
       "      <td>MINING AND MINERAL ENGINEERING</td>\n",
       "      <td>Engineering</td>\n",
       "      <td>640</td>\n",
       "      <td>556</td>\n",
       "      <td>170</td>\n",
       "      <td>75000</td>\n",
       "      <td>55000</td>\n",
       "      <td>90000</td>\n",
       "      <td>756.0</td>\n",
       "    </tr>\n",
       "    <tr>\n",
       "      <th>2</th>\n",
       "      <td>3</td>\n",
       "      <td>METALLURGICAL ENGINEERING</td>\n",
       "      <td>Engineering</td>\n",
       "      <td>648</td>\n",
       "      <td>558</td>\n",
       "      <td>133</td>\n",
       "      <td>73000</td>\n",
       "      <td>50000</td>\n",
       "      <td>105000</td>\n",
       "      <td>856.0</td>\n",
       "    </tr>\n",
       "    <tr>\n",
       "      <th>3</th>\n",
       "      <td>4</td>\n",
       "      <td>NAVAL ARCHITECTURE AND MARINE ENGINEERING</td>\n",
       "      <td>Engineering</td>\n",
       "      <td>758</td>\n",
       "      <td>1069</td>\n",
       "      <td>150</td>\n",
       "      <td>70000</td>\n",
       "      <td>43000</td>\n",
       "      <td>80000</td>\n",
       "      <td>1258.0</td>\n",
       "    </tr>\n",
       "    <tr>\n",
       "      <th>4</th>\n",
       "      <td>5</td>\n",
       "      <td>CHEMICAL ENGINEERING</td>\n",
       "      <td>Engineering</td>\n",
       "      <td>25694</td>\n",
       "      <td>23170</td>\n",
       "      <td>5180</td>\n",
       "      <td>65000</td>\n",
       "      <td>50000</td>\n",
       "      <td>75000</td>\n",
       "      <td>32260.0</td>\n",
       "    </tr>\n",
       "  </tbody>\n",
       "</table>\n",
       "</div>"
      ],
      "text/plain": [
       "   Rank                                      Major Major_category  Employed  \\\n",
       "0     1                      PETROLEUM ENGINEERING    Engineering      1976   \n",
       "1     2             MINING AND MINERAL ENGINEERING    Engineering       640   \n",
       "2     3                  METALLURGICAL ENGINEERING    Engineering       648   \n",
       "3     4  NAVAL ARCHITECTURE AND MARINE ENGINEERING    Engineering       758   \n",
       "4     5                       CHEMICAL ENGINEERING    Engineering     25694   \n",
       "\n",
       "   Full_time  Part_time  Median  P25th   P75th    Total  \n",
       "0       1849        270  110000  95000  125000   2339.0  \n",
       "1        556        170   75000  55000   90000    756.0  \n",
       "2        558        133   73000  50000  105000    856.0  \n",
       "3       1069        150   70000  43000   80000   1258.0  \n",
       "4      23170       5180   65000  50000   75000  32260.0  "
      ]
     },
     "execution_count": 27,
     "metadata": {},
     "output_type": "execute_result"
    }
   ],
   "source": [
    "wanted_cols = 'Rank Major Major_category Employed Full_time Part_time Median P25th P75th Total'.split()\n",
    "rec_wanted = recent_grads.copy()[wanted_cols]\n",
    "rec_wanted.head()"
   ]
  },
  {
   "cell_type": "markdown",
   "metadata": {},
   "source": [
    "### Feature Engineering\n",
    "Changing the following columns:\n",
    "- Employed -> Employment_rate\n",
    "- Full_time -> Full_time_rate\n",
    "- Part_time -> Part_time_rate\n",
    "\n",
    "Creating the following columns\n",
    "- Unemployment_rate"
   ]
  },
  {
   "cell_type": "code",
   "execution_count": 28,
   "metadata": {},
   "outputs": [
    {
     "data": {
      "text/html": [
       "<div>\n",
       "<style scoped>\n",
       "    .dataframe tbody tr th:only-of-type {\n",
       "        vertical-align: middle;\n",
       "    }\n",
       "\n",
       "    .dataframe tbody tr th {\n",
       "        vertical-align: top;\n",
       "    }\n",
       "\n",
       "    .dataframe thead th {\n",
       "        text-align: right;\n",
       "    }\n",
       "</style>\n",
       "<table border=\"1\" class=\"dataframe\">\n",
       "  <thead>\n",
       "    <tr style=\"text-align: right;\">\n",
       "      <th></th>\n",
       "      <th>Rank</th>\n",
       "      <th>Major</th>\n",
       "      <th>Major_category</th>\n",
       "      <th>Median</th>\n",
       "      <th>P25th</th>\n",
       "      <th>P75th</th>\n",
       "      <th>Total</th>\n",
       "      <th>Employment_rate</th>\n",
       "      <th>Unemployment_rate</th>\n",
       "      <th>Full_time_rate</th>\n",
       "      <th>Part_time_rate</th>\n",
       "    </tr>\n",
       "  </thead>\n",
       "  <tbody>\n",
       "    <tr>\n",
       "      <th>0</th>\n",
       "      <td>1</td>\n",
       "      <td>PETROLEUM ENGINEERING</td>\n",
       "      <td>Engineering</td>\n",
       "      <td>110000</td>\n",
       "      <td>95000</td>\n",
       "      <td>125000</td>\n",
       "      <td>2339.0</td>\n",
       "      <td>0.844805</td>\n",
       "      <td>0.155195</td>\n",
       "      <td>0.790509</td>\n",
       "      <td>0.115434</td>\n",
       "    </tr>\n",
       "    <tr>\n",
       "      <th>1</th>\n",
       "      <td>2</td>\n",
       "      <td>MINING AND MINERAL ENGINEERING</td>\n",
       "      <td>Engineering</td>\n",
       "      <td>75000</td>\n",
       "      <td>55000</td>\n",
       "      <td>90000</td>\n",
       "      <td>756.0</td>\n",
       "      <td>0.846561</td>\n",
       "      <td>0.153439</td>\n",
       "      <td>0.735450</td>\n",
       "      <td>0.224868</td>\n",
       "    </tr>\n",
       "    <tr>\n",
       "      <th>2</th>\n",
       "      <td>3</td>\n",
       "      <td>METALLURGICAL ENGINEERING</td>\n",
       "      <td>Engineering</td>\n",
       "      <td>73000</td>\n",
       "      <td>50000</td>\n",
       "      <td>105000</td>\n",
       "      <td>856.0</td>\n",
       "      <td>0.757009</td>\n",
       "      <td>0.242991</td>\n",
       "      <td>0.651869</td>\n",
       "      <td>0.155374</td>\n",
       "    </tr>\n",
       "    <tr>\n",
       "      <th>3</th>\n",
       "      <td>4</td>\n",
       "      <td>NAVAL ARCHITECTURE AND MARINE ENGINEERING</td>\n",
       "      <td>Engineering</td>\n",
       "      <td>70000</td>\n",
       "      <td>43000</td>\n",
       "      <td>80000</td>\n",
       "      <td>1258.0</td>\n",
       "      <td>0.602544</td>\n",
       "      <td>0.397456</td>\n",
       "      <td>0.849762</td>\n",
       "      <td>0.119237</td>\n",
       "    </tr>\n",
       "    <tr>\n",
       "      <th>4</th>\n",
       "      <td>5</td>\n",
       "      <td>CHEMICAL ENGINEERING</td>\n",
       "      <td>Engineering</td>\n",
       "      <td>65000</td>\n",
       "      <td>50000</td>\n",
       "      <td>75000</td>\n",
       "      <td>32260.0</td>\n",
       "      <td>0.796466</td>\n",
       "      <td>0.203534</td>\n",
       "      <td>0.718227</td>\n",
       "      <td>0.160570</td>\n",
       "    </tr>\n",
       "  </tbody>\n",
       "</table>\n",
       "</div>"
      ],
      "text/plain": [
       "   Rank                                      Major Major_category  Median  \\\n",
       "0     1                      PETROLEUM ENGINEERING    Engineering  110000   \n",
       "1     2             MINING AND MINERAL ENGINEERING    Engineering   75000   \n",
       "2     3                  METALLURGICAL ENGINEERING    Engineering   73000   \n",
       "3     4  NAVAL ARCHITECTURE AND MARINE ENGINEERING    Engineering   70000   \n",
       "4     5                       CHEMICAL ENGINEERING    Engineering   65000   \n",
       "\n",
       "   P25th   P75th    Total  Employment_rate  Unemployment_rate  Full_time_rate  \\\n",
       "0  95000  125000   2339.0         0.844805           0.155195        0.790509   \n",
       "1  55000   90000    756.0         0.846561           0.153439        0.735450   \n",
       "2  50000  105000    856.0         0.757009           0.242991        0.651869   \n",
       "3  43000   80000   1258.0         0.602544           0.397456        0.849762   \n",
       "4  50000   75000  32260.0         0.796466           0.203534        0.718227   \n",
       "\n",
       "   Part_time_rate  \n",
       "0        0.115434  \n",
       "1        0.224868  \n",
       "2        0.155374  \n",
       "3        0.119237  \n",
       "4        0.160570  "
      ]
     },
     "execution_count": 28,
     "metadata": {},
     "output_type": "execute_result"
    }
   ],
   "source": [
    "# Employment rate\n",
    "rec_wanted['Employment_rate'] = rec_wanted['Employed'] / rec_wanted['Total']\n",
    "\n",
    "# Unemployment_rate\n",
    "rec_wanted['Unemployment_rate'] = 1 - rec_wanted['Employment_rate']\n",
    "\n",
    "# Full time rate\n",
    "rec_wanted['Full_time_rate'] = rec_wanted['Full_time'] / rec_wanted['Total']\n",
    "\n",
    "# Part time rate \n",
    "rec_wanted['Part_time_rate'] = rec_wanted['Part_time'] / rec_wanted['Total']\n",
    "\n",
    "rec_wanted = rec_wanted.drop('Employed Full_time Part_time'.split(), axis=1)\n",
    "rec_wanted.head()"
   ]
  },
  {
   "cell_type": "markdown",
   "metadata": {},
   "source": [
    "# Data Analysis & Results"
   ]
  },
  {
   "cell_type": "code",
   "execution_count": null,
   "metadata": {},
   "outputs": [],
   "source": []
  },
  {
   "cell_type": "markdown",
   "metadata": {},
   "source": [
    "# Ethics & Privacy"
   ]
  },
  {
   "cell_type": "markdown",
   "metadata": {},
   "source": [
    "*Fill in your ethics & privacy discussion here*"
   ]
  },
  {
   "cell_type": "markdown",
   "metadata": {},
   "source": [
    "# Conclusion & Discussion"
   ]
  },
  {
   "cell_type": "markdown",
   "metadata": {},
   "source": [
    "*Fill in your discussion information here*"
   ]
  }
 ],
 "metadata": {
  "kernelspec": {
   "display_name": "Python 3",
   "language": "python",
   "name": "python3"
  },
  "language_info": {
   "codemirror_mode": {
    "name": "ipython",
    "version": 3
   },
   "file_extension": ".py",
   "mimetype": "text/x-python",
   "name": "python",
   "nbconvert_exporter": "python",
   "pygments_lexer": "ipython3",
   "version": "3.7.3"
  }
 },
 "nbformat": 4,
 "nbformat_minor": 2
}
